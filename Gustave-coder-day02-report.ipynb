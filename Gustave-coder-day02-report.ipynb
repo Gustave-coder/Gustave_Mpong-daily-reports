{
 "cells": [
  {
   "cell_type": "markdown",
   "id": "3d3f1dce-624d-4017-b803-4eefc19f010f",
   "metadata": {},
   "source": [
    "# <span style ='color: red;'> Strings and files </span>"
   ]
  },
  {
   "cell_type": "code",
   "execution_count": 17,
   "id": "890a3501-9657-4884-8063-847e3a4bee33",
   "metadata": {},
   "outputs": [],
   "source": [
    "string_1 = \"Will you be at the meeting tonight ?\"\n",
    "string_2 = '\"Yes\", he replies.'"
   ]
  },
  {
   "cell_type": "code",
   "execution_count": 14,
   "id": "fa4a5e77-2fb1-4128-8604-fd79a591302d",
   "metadata": {},
   "outputs": [
    {
     "name": "stdout",
     "output_type": "stream",
     "text": [
      "Will you be at the meeting tonight\n"
     ]
    }
   ],
   "source": [
    "print(string_1)"
   ]
  },
  {
   "cell_type": "code",
   "execution_count": 6,
   "id": "56538c7b-6556-4bfa-963e-fc10c02bc4de",
   "metadata": {},
   "outputs": [
    {
     "name": "stdout",
     "output_type": "stream",
     "text": [
      "\"Yes\", he replies.\n"
     ]
    }
   ],
   "source": [
    "print(string_2)"
   ]
  },
  {
   "cell_type": "markdown",
   "id": "1341103e-3dc5-44ee-886d-79f5d325a1a0",
   "metadata": {},
   "source": [
    "## <span style ='color: red;'> Indexing </span>"
   ]
  },
  {
   "cell_type": "code",
   "execution_count": 9,
   "id": "4ca7657a-fed6-4e3b-8434-88e793d0899e",
   "metadata": {},
   "outputs": [
    {
     "data": {
      "text/plain": [
       "'W'"
      ]
     },
     "execution_count": 9,
     "metadata": {},
     "output_type": "execute_result"
    }
   ],
   "source": [
    "string_1[0]"
   ]
  },
  {
   "cell_type": "code",
   "execution_count": 10,
   "id": "1ece3932-7ee2-4d1e-aa60-321150308bb3",
   "metadata": {},
   "outputs": [
    {
     "data": {
      "text/plain": [
       "'i'"
      ]
     },
     "execution_count": 10,
     "metadata": {},
     "output_type": "execute_result"
    }
   ],
   "source": [
    "string_1[1]"
   ]
  },
  {
   "cell_type": "code",
   "execution_count": 13,
   "id": "43f80cb3-3238-48d7-9cd5-8cda29904b7b",
   "metadata": {},
   "outputs": [
    {
     "name": "stdout",
     "output_type": "stream",
     "text": [
      "Will you be at the meeting tonight\n",
      "The second charater of my string is  i\n"
     ]
    }
   ],
   "source": [
    "print(string_1)\n",
    "print(\"The second charater of my string is \",  string_1[1])"
   ]
  },
  {
   "cell_type": "code",
   "execution_count": 18,
   "id": "64b5e4bc-671d-463d-b487-0713ac874376",
   "metadata": {},
   "outputs": [
    {
     "name": "stdout",
     "output_type": "stream",
     "text": [
      "Will you be at the meeting tonight ?\n",
      "The second charater of my string is  ?\n"
     ]
    }
   ],
   "source": [
    "print(string_1)\n",
    "print(\"The second charater of my string is \",  string_1[-1])"
   ]
  },
  {
   "cell_type": "markdown",
   "id": "bc8704db-7a41-4119-96a3-3e5a6dcad176",
   "metadata": {},
   "source": [
    "## <span style ='color: red;'> Slicing </span>\n",
    "``` python\n",
    "string[start:stop:step]\n",
    "\n",
    "```"
   ]
  },
  {
   "cell_type": "code",
   "execution_count": 19,
   "id": "d8652609-3cc2-42e4-bfb2-e845322bdfc5",
   "metadata": {},
   "outputs": [
    {
     "name": "stdout",
     "output_type": "stream",
     "text": [
      "Will you be at the meeting tonight ?\n"
     ]
    },
    {
     "data": {
      "text/plain": [
       "'l o'"
      ]
     },
     "execution_count": 19,
     "metadata": {},
     "output_type": "execute_result"
    }
   ],
   "source": [
    "print(string_1)\n",
    "string_1[2:8:2]"
   ]
  },
  {
   "cell_type": "code",
   "execution_count": 20,
   "id": "7bdbfab6-3608-45b0-97ed-a0e0aab8065c",
   "metadata": {},
   "outputs": [
    {
     "data": {
      "text/plain": [
       "18"
      ]
     },
     "execution_count": 20,
     "metadata": {},
     "output_type": "execute_result"
    }
   ],
   "source": [
    "len(string_2)"
   ]
  },
  {
   "cell_type": "markdown",
   "id": "5192387d-cecc-430c-847d-89146c96361a",
   "metadata": {},
   "source": [
    "#### Concatenation"
   ]
  },
  {
   "cell_type": "code",
   "execution_count": 28,
   "id": "ba403daa-88f3-4e50-9da1-c24e7c9ac76e",
   "metadata": {},
   "outputs": [
    {
     "name": "stdout",
     "output_type": "stream",
     "text": [
      "Hello, World \t WorldHello, \n"
     ]
    }
   ],
   "source": [
    "my_var1 = \"Hello, \"\n",
    "my_var2 = \"World\"\n",
    "contat = my_var1 + my_var2\n",
    "contat1 = my_var2 + my_var1\n",
    "\n",
    "print(contat,\"\\t\", contat1 )"
   ]
  },
  {
   "cell_type": "code",
   "execution_count": 31,
   "id": "77a5d7ac-8a90-4d93-ac99-f0fc4639149e",
   "metadata": {},
   "outputs": [
    {
     "data": {
      "text/plain": [
       "\u001b[31mSignature:\u001b[39m my_var2.capitalize()\n",
       "\u001b[31mDocstring:\u001b[39m\n",
       "Return a capitalized version of the string.\n",
       "\n",
       "More specifically, make the first character have upper case and the rest lower\n",
       "case.\n",
       "\u001b[31mType:\u001b[39m      builtin_function_or_method"
      ]
     },
     "metadata": {},
     "output_type": "display_data"
    }
   ],
   "source": [
    "?my_var2.capitalize"
   ]
  },
  {
   "cell_type": "code",
   "execution_count": 39,
   "id": "6462928d-1e2e-45e4-b743-d7690a62ddb8",
   "metadata": {},
   "outputs": [
    {
     "data": {
      "text/plain": [
       "['__add__',\n",
       " '__class__',\n",
       " '__contains__',\n",
       " '__delattr__',\n",
       " '__dir__',\n",
       " '__doc__',\n",
       " '__eq__',\n",
       " '__format__',\n",
       " '__ge__',\n",
       " '__getattribute__',\n",
       " '__getitem__',\n",
       " '__getnewargs__',\n",
       " '__getstate__',\n",
       " '__gt__',\n",
       " '__hash__',\n",
       " '__init__',\n",
       " '__init_subclass__',\n",
       " '__iter__',\n",
       " '__le__',\n",
       " '__len__',\n",
       " '__lt__',\n",
       " '__mod__',\n",
       " '__mul__',\n",
       " '__ne__',\n",
       " '__new__',\n",
       " '__reduce__',\n",
       " '__reduce_ex__',\n",
       " '__repr__',\n",
       " '__rmod__',\n",
       " '__rmul__',\n",
       " '__setattr__',\n",
       " '__sizeof__',\n",
       " '__str__',\n",
       " '__subclasshook__',\n",
       " 'capitalize',\n",
       " 'casefold',\n",
       " 'center',\n",
       " 'count',\n",
       " 'encode',\n",
       " 'endswith',\n",
       " 'expandtabs',\n",
       " 'find',\n",
       " 'format',\n",
       " 'format_map',\n",
       " 'index',\n",
       " 'isalnum',\n",
       " 'isalpha',\n",
       " 'isascii',\n",
       " 'isdecimal',\n",
       " 'isdigit',\n",
       " 'isidentifier',\n",
       " 'islower',\n",
       " 'isnumeric',\n",
       " 'isprintable',\n",
       " 'isspace',\n",
       " 'istitle',\n",
       " 'isupper',\n",
       " 'join',\n",
       " 'ljust',\n",
       " 'lower',\n",
       " 'lstrip',\n",
       " 'maketrans',\n",
       " 'partition',\n",
       " 'removeprefix',\n",
       " 'removesuffix',\n",
       " 'replace',\n",
       " 'rfind',\n",
       " 'rindex',\n",
       " 'rjust',\n",
       " 'rpartition',\n",
       " 'rsplit',\n",
       " 'rstrip',\n",
       " 'split',\n",
       " 'splitlines',\n",
       " 'startswith',\n",
       " 'strip',\n",
       " 'swapcase',\n",
       " 'title',\n",
       " 'translate',\n",
       " 'upper',\n",
       " 'zfill']"
      ]
     },
     "execution_count": 39,
     "metadata": {},
     "output_type": "execute_result"
    }
   ],
   "source": [
    "string_5 = \"Como se pasa la magnana? El se pasa muy buen \"\n",
    "dir(string_5)"
   ]
  },
  {
   "cell_type": "code",
   "execution_count": 40,
   "id": "fb539649-8742-41c2-acbe-f2144916bef4",
   "metadata": {},
   "outputs": [
    {
     "data": {
      "text/plain": [
       "\u001b[31mSignature:\u001b[39m string_5.translate(table, /)\n",
       "\u001b[31mDocstring:\u001b[39m\n",
       "Replace each character in the string using the given translation table.\n",
       "\n",
       "  table\n",
       "    Translation table, which must be a mapping of Unicode ordinals to\n",
       "    Unicode ordinals, strings, or None.\n",
       "\n",
       "The table must implement lookup/indexing via __getitem__, for instance a\n",
       "dictionary or list.  If this operation raises LookupError, the character is\n",
       "left untouched.  Characters mapped to None are deleted.\n",
       "\u001b[31mType:\u001b[39m      builtin_function_or_method"
      ]
     },
     "metadata": {},
     "output_type": "display_data"
    }
   ],
   "source": [
    "?string_5.translate"
   ]
  },
  {
   "cell_type": "code",
   "execution_count": 42,
   "id": "5055d27f-16bc-44ad-80e2-64b1dae077ef",
   "metadata": {},
   "outputs": [
    {
     "name": "stdout",
     "output_type": "stream",
     "text": [
      "Help on built-in function translate:\n",
      "\n",
      "translate(table, /) method of builtins.str instance\n",
      "    Replace each character in the string using the given translation table.\n",
      "\n",
      "      table\n",
      "        Translation table, which must be a mapping of Unicode ordinals to\n",
      "        Unicode ordinals, strings, or None.\n",
      "\n",
      "    The table must implement lookup/indexing via __getitem__, for instance a\n",
      "    dictionary or list.  If this operation raises LookupError, the character is\n",
      "    left untouched.  Characters mapped to None are deleted.\n",
      "\n"
     ]
    }
   ],
   "source": [
    "help(string_5.translate)"
   ]
  },
  {
   "cell_type": "code",
   "execution_count": 45,
   "id": "aacec15e-bbed-4cff-a2da-8fc28f9621aa",
   "metadata": {},
   "outputs": [
    {
     "name": "stdout",
     "output_type": "stream",
     "text": [
      "<built-in method count of str object at 0x000001D58978DAD0>\n"
     ]
    }
   ],
   "source": [
    "print(string_5.count)"
   ]
  },
  {
   "cell_type": "code",
   "execution_count": 44,
   "id": "8d77765c-e74f-44c6-9bc9-56ca6f5e915a",
   "metadata": {},
   "outputs": [
    {
     "data": {
      "text/plain": [
       "\u001b[31mDocstring:\u001b[39m\n",
       "S.count(sub[, start[, end]]) -> int\n",
       "\n",
       "Return the number of non-overlapping occurrences of substring sub in\n",
       "string S[start:end].  Optional arguments start and end are\n",
       "interpreted as in slice notation.\n",
       "\u001b[31mType:\u001b[39m      builtin_function_or_method"
      ]
     },
     "metadata": {},
     "output_type": "display_data"
    }
   ],
   "source": [
    "?string_5.count"
   ]
  },
  {
   "cell_type": "code",
   "execution_count": 51,
   "id": "1aea7cd1-99e7-4a7c-b482-e9640b81a0bd",
   "metadata": {},
   "outputs": [
    {
     "name": "stdout",
     "output_type": "stream",
     "text": [
      "Como Se Pasa La Magnana? El Se Pasa Muy Buen \n",
      "Como se pasa la magnana? el se pasa muy buen \n"
     ]
    }
   ],
   "source": [
    "print(string_5.title()) #Here every first letter of each words being capitalize\n",
    "print(string_5.capitalize()) #But here it's just the first letter of the first word being capitalize"
   ]
  },
  {
   "cell_type": "code",
   "execution_count": null,
   "id": "bc8f6fad-ed76-45ed-9cec-721e736919a0",
   "metadata": {},
   "outputs": [],
   "source": [
    "fdgqfyfv\n",
    "aims class\n",
    "Rwanda 2025\n",
    "this is really cool"
   ]
  },
  {
   "cell_type": "code",
   "execution_count": 56,
   "id": "fd9aa008-7cfd-4971-adb1-0daea832d546",
   "metadata": {},
   "outputs": [
    {
     "name": "stdout",
     "output_type": "stream",
     "text": [
      " Le volume dans le lecteur C n’a pas de nom.\n",
      " Le numéro de série du volume est 342A-384B\n",
      "\n",
      " Répertoire de C:\\Users\\MPONG\n",
      "\n",
      "25/09/2025  12:24    <DIR>          .\n",
      "25/09/2025  12:24    <DIR>          ..\n",
      "26/06/2023  02:21             6 964 -1.14-windows.xml\n",
      "02/03/2025  20:16    <DIR>          .anaconda\n",
      "07/09/2025  11:08            17 697 .bash_history\n",
      "18/07/2025  16:17    <DIR>          .cache\n",
      "25/09/2025  12:24    <DIR>          .conda\n",
      "02/03/2025  20:17               146 .condarc\n",
      "02/03/2025  20:15    <DIR>          .continuum\n",
      "25/09/2025  12:24    <DIR>          .ipynb_checkpoints\n",
      "02/03/2025  20:21    <DIR>          .ipython\n",
      "11/05/2025  01:16    <DIR>          .jupyter\n",
      "02/03/2025  20:20    <DIR>          .matplotlib\n",
      "23/08/2025  22:26    <DIR>          .spyder-py3\n",
      "26/08/2025  23:21    <DIR>          .virtual_documents\n",
      "09/08/2024  04:22    <DIR>          .vscode\n",
      "25/06/2024  21:27    <DIR>          3D Objects\n",
      "17/03/2025  01:23                66 alo.txt\n",
      "12/07/2025  14:32            46 800 bacterie.jpg\n",
      "27/08/2025  07:05    <DIR>          Contacts\n",
      "16/07/2025  00:43            65 094 cup.jpg\n",
      "25/09/2025  12:24            21 873 day03.ipynb\n",
      "14/04/2025  19:26               408 debut.tex\n",
      "01/08/2025  00:54               284 demo.py\n",
      "22/09/2025  22:08    <DIR>          Desktop\n",
      "23/09/2025  10:37    <DIR>          Documents\n",
      "25/09/2025  10:25    <DIR>          Downloads\n",
      "26/04/2025  20:04                32 exerice3 EDO.aux\n",
      "26/04/2025  20:04             8 254 exerice3 EDO.log\n",
      "26/04/2025  20:04           123 919 exerice3 EDO.pdf\n",
      "26/04/2025  20:04            22 425 exerice3 EDO.synctex.gz\n",
      "26/04/2025  20:04             6 195 exerice3 EDO.tex\n",
      "30/04/2023  13:46    <DIR>          Favorites\n",
      "07/07/2025  23:19           216 976 Figure 2025-07-07 231905.png\n",
      "09/07/2025  15:09            40 853 Figure 2025-07-09 150923.png\n",
      "25/09/2025  12:24    <DIR>          Folders\n",
      "23/03/2025  19:41                15 geu.txt\n",
      "24/09/2025  22:22            31 576 gustave_mpong_PP1.ipynb\n",
      "23/03/2025  19:41                20 heu.txt\n",
      "02/03/2025  20:21    <DIR>          Jedi\n",
      "23/03/2025  19:41                14 jeu.txt\n",
      "30/04/2023  13:46    <DIR>          Links\n",
      "19/11/2023  19:05    <DIR>          Music\n",
      "03/09/2025  18:27                21 my_script.sh\n",
      "28/07/2025  16:52    <DIR>          new\n",
      "03/11/2023  13:47    <DIR>          New Frontier\n",
      "30/04/2023  13:49    <DIR>          OneDrive\n",
      "10/04/2024  00:55    <DIR>          photo\n",
      "02/03/2025  19:45    <DIR>          Pictures\n",
      "31/07/2025  21:36    <DIR>          PycharmProjects\n",
      "23/09/2025  10:53    <DIR>          python_course\n",
      "22/09/2025  12:06                34 RepoFile.txt\n",
      "22/09/2025  16:02            13 172 revision.ipynb\n",
      "21/11/2023  06:13               422 sansnom-1.tex\n",
      "29/06/2025  22:37               187 sanstitre2.py\n",
      "30/04/2023  13:46    <DIR>          Saved Games\n",
      "30/04/2023  13:47    <DIR>          Searches\n",
      "14/07/2025  15:45             3 218 tennis.jpg\n",
      "23/03/2025  20:57                 4 test.txt\n",
      "14/04/2025  19:29                32 teste.aux\n",
      "14/04/2025  19:29             2 869 teste.log\n",
      "14/04/2025  19:29            14 899 teste.pdf\n",
      "14/04/2025  19:29               511 teste.synctex.gz\n",
      "14/04/2025  19:29               138 teste.tex\n",
      "25/09/2025  12:23    <DIR>          testfile.txt\n",
      "02/07/2025  10:38            63 964 trigo.jpg\n",
      "02/07/2025  10:37           155 793 trigo.pdf\n",
      "16/07/2025  00:41           238 335 trigo.png\n",
      "23/09/2025  10:56           816 551 Untitled.ipynb\n",
      "08/07/2025  09:10                 0 untitled.md\n",
      "04/03/2025  20:09                 0 untitled.py\n",
      "08/03/2025  00:11                 0 untitled.txt\n",
      "29/08/2025  13:20            67 293 Untitled1.ipynb\n",
      "08/07/2025  09:10                 0 untitled1.py\n",
      "24/04/2025  22:45                 0 untitled1.txt\n",
      "01/08/2025  15:00               617 Untitled2.ipynb\n",
      "14/07/2025  15:50            37 321 Untitled3.ipynb\n",
      "16/07/2025  01:08           437 655 Untitled4.ipynb\n",
      "19/08/2025  12:17                72 Untitled5.ipynb\n",
      "29/07/2025  16:07    <DIR>          Videos\n",
      "              46 fichier(s)        2 462 719 octets\n",
      "              34 Rép(s)   4 563 054 592 octets libres\n"
     ]
    }
   ],
   "source": [
    "!dir"
   ]
  },
  {
   "cell_type": "code",
   "execution_count": 61,
   "id": "b374a071-845b-457d-a413-3e2986255c12",
   "metadata": {},
   "outputs": [
    {
     "name": "stdout",
     "output_type": "stream",
     "text": [
      " Le volume dans le lecteur C n’a pas de nom.\n",
      " Le numéro de série du volume est 342A-384B\n",
      "\n",
      " Répertoire de C:\\Users\\MPONG\n",
      "\n",
      "25/09/2025  12:31    <DIR>          .\n",
      "25/09/2025  12:31    <DIR>          ..\n",
      "26/06/2023  02:21             6 964 -1.14-windows.xml\n",
      "02/03/2025  20:16    <DIR>          .anaconda\n",
      "07/09/2025  11:08            17 697 .bash_history\n",
      "18/07/2025  16:17    <DIR>          .cache\n",
      "25/09/2025  12:31    <DIR>          .conda\n",
      "02/03/2025  20:17               146 .condarc\n",
      "02/03/2025  20:15    <DIR>          .continuum\n",
      "25/09/2025  12:24    <DIR>          .ipynb_checkpoints\n",
      "02/03/2025  20:21    <DIR>          .ipython\n",
      "11/05/2025  01:16    <DIR>          .jupyter\n",
      "02/03/2025  20:20    <DIR>          .matplotlib\n",
      "23/08/2025  22:26    <DIR>          .spyder-py3\n",
      "26/08/2025  23:21    <DIR>          .virtual_documents\n",
      "09/08/2024  04:22    <DIR>          .vscode\n",
      "25/06/2024  21:27    <DIR>          3D Objects\n",
      "17/03/2025  01:23                66 alo.txt\n",
      "12/07/2025  14:32            46 800 bacterie.jpg\n",
      "27/08/2025  07:05    <DIR>          Contacts\n",
      "16/07/2025  00:43            65 094 cup.jpg\n",
      "25/09/2025  12:28            28 219 day03.ipynb\n",
      "14/04/2025  19:26               408 debut.tex\n",
      "01/08/2025  00:54               284 demo.py\n",
      "22/09/2025  22:08    <DIR>          Desktop\n",
      "23/09/2025  10:37    <DIR>          Documents\n",
      "25/09/2025  10:25    <DIR>          Downloads\n",
      "26/04/2025  20:04                32 exerice3 EDO.aux\n",
      "26/04/2025  20:04             8 254 exerice3 EDO.log\n",
      "26/04/2025  20:04           123 919 exerice3 EDO.pdf\n",
      "26/04/2025  20:04            22 425 exerice3 EDO.synctex.gz\n",
      "26/04/2025  20:04             6 195 exerice3 EDO.tex\n",
      "30/04/2023  13:46    <DIR>          Favorites\n",
      "07/07/2025  23:19           216 976 Figure 2025-07-07 231905.png\n",
      "09/07/2025  15:09            40 853 Figure 2025-07-09 150923.png\n",
      "25/09/2025  12:26    <DIR>          folder\n",
      "25/09/2025  12:24    <DIR>          Folders\n",
      "23/03/2025  19:41                15 geu.txt\n",
      "24/09/2025  22:22            31 576 gustave_mpong_PP1.ipynb\n",
      "23/03/2025  19:41                20 heu.txt\n",
      "02/03/2025  20:21    <DIR>          Jedi\n",
      "23/03/2025  19:41                14 jeu.txt\n",
      "30/04/2023  13:46    <DIR>          Links\n",
      "19/11/2023  19:05    <DIR>          Music\n",
      "03/09/2025  18:27                21 my_script.sh\n",
      "28/07/2025  16:52    <DIR>          new\n",
      "03/11/2023  13:47    <DIR>          New Frontier\n",
      "30/04/2023  13:49    <DIR>          OneDrive\n",
      "10/04/2024  00:55    <DIR>          photo\n",
      "02/03/2025  19:45    <DIR>          Pictures\n",
      "31/07/2025  21:36    <DIR>          PycharmProjects\n",
      "23/09/2025  10:53    <DIR>          python_course\n",
      "22/09/2025  12:06                34 RepoFile.txt\n",
      "22/09/2025  16:02            13 172 revision.ipynb\n",
      "21/11/2023  06:13               422 sansnom-1.tex\n",
      "29/06/2025  22:37               187 sanstitre2.py\n",
      "30/04/2023  13:46    <DIR>          Saved Games\n",
      "30/04/2023  13:47    <DIR>          Searches\n",
      "14/07/2025  15:45             3 218 tennis.jpg\n",
      "23/03/2025  20:57                 4 test.txt\n",
      "14/04/2025  19:29                32 teste.aux\n",
      "14/04/2025  19:29             2 869 teste.log\n",
      "14/04/2025  19:29            14 899 teste.pdf\n",
      "14/04/2025  19:29               511 teste.synctex.gz\n",
      "14/04/2025  19:29               138 teste.tex\n",
      "02/07/2025  10:38            63 964 trigo.jpg\n",
      "02/07/2025  10:37           155 793 trigo.pdf\n",
      "16/07/2025  00:41           238 335 trigo.png\n",
      "23/09/2025  10:56           816 551 Untitled.ipynb\n",
      "08/07/2025  09:10                 0 untitled.md\n",
      "04/03/2025  20:09                 0 untitled.py\n",
      "08/03/2025  00:11                 0 untitled.txt\n",
      "29/08/2025  13:20            67 293 Untitled1.ipynb\n",
      "08/07/2025  09:10                 0 untitled1.py\n",
      "24/04/2025  22:45                 0 untitled1.txt\n",
      "01/08/2025  15:00               617 Untitled2.ipynb\n",
      "14/07/2025  15:50            37 321 Untitled3.ipynb\n",
      "16/07/2025  01:08           437 655 Untitled4.ipynb\n",
      "19/08/2025  12:17                72 Untitled5.ipynb\n",
      "29/07/2025  16:07    <DIR>          Videos\n",
      "              46 fichier(s)        2 469 065 octets\n",
      "              34 Rép(s)   4 552 818 688 octets libres\n"
     ]
    }
   ],
   "source": [
    "!dir"
   ]
  },
  {
   "cell_type": "code",
   "execution_count": 1,
   "id": "9863f346-1042-4d1c-b21c-88659b1b98ce",
   "metadata": {},
   "outputs": [
    {
     "ename": "ValueError",
     "evalue": "'textfile.txt' was not found in history, as a file, url, nor in the user namespace.",
     "output_type": "error",
     "traceback": [
      "\u001b[31m---------------------------------------------------------------------------\u001b[39m",
      "\u001b[31mNameError\u001b[39m                                 Traceback (most recent call last)",
      "\u001b[36mFile \u001b[39m\u001b[32m~\\Pictures\\Camera Roll\\Lib\\site-packages\\IPython\\core\\interactiveshell.py:4029\u001b[39m, in \u001b[36mInteractiveShell.find_user_code\u001b[39m\u001b[34m(self, target, raw, py_only, skip_encoding_cookie, search_ns)\u001b[39m\n\u001b[32m   4028\u001b[39m \u001b[38;5;28;01mtry\u001b[39;00m:                                              \u001b[38;5;66;03m# User namespace\u001b[39;00m\n\u001b[32m-> \u001b[39m\u001b[32m4029\u001b[39m     codeobj = \u001b[38;5;28meval\u001b[39m(target, \u001b[38;5;28mself\u001b[39m.user_ns)\n\u001b[32m   4030\u001b[39m \u001b[38;5;28;01mexcept\u001b[39;00m \u001b[38;5;167;01mException\u001b[39;00m \u001b[38;5;28;01mas\u001b[39;00m e:\n",
      "\u001b[36mFile \u001b[39m\u001b[32m<string>:1\u001b[39m\n",
      "\u001b[31mNameError\u001b[39m: name 'textfile' is not defined",
      "\nThe above exception was the direct cause of the following exception:\n",
      "\u001b[31mValueError\u001b[39m                                Traceback (most recent call last)",
      "\u001b[36mCell\u001b[39m\u001b[36m \u001b[39m\u001b[32mIn[1]\u001b[39m\u001b[32m, line 1\u001b[39m\n\u001b[32m----> \u001b[39m\u001b[32m1\u001b[39m get_ipython().run_line_magic(\u001b[33m'\u001b[39m\u001b[33mload\u001b[39m\u001b[33m'\u001b[39m, \u001b[33m'\u001b[39m\u001b[33mtextfile.txt\u001b[39m\u001b[33m'\u001b[39m)\n",
      "\u001b[36mFile \u001b[39m\u001b[32m~\\Pictures\\Camera Roll\\Lib\\site-packages\\IPython\\core\\interactiveshell.py:2504\u001b[39m, in \u001b[36mInteractiveShell.run_line_magic\u001b[39m\u001b[34m(self, magic_name, line, _stack_depth)\u001b[39m\n\u001b[32m   2502\u001b[39m     kwargs[\u001b[33m'\u001b[39m\u001b[33mlocal_ns\u001b[39m\u001b[33m'\u001b[39m] = \u001b[38;5;28mself\u001b[39m.get_local_scope(stack_depth)\n\u001b[32m   2503\u001b[39m \u001b[38;5;28;01mwith\u001b[39;00m \u001b[38;5;28mself\u001b[39m.builtin_trap:\n\u001b[32m-> \u001b[39m\u001b[32m2504\u001b[39m     result = fn(*args, **kwargs)\n\u001b[32m   2506\u001b[39m \u001b[38;5;66;03m# The code below prevents the output from being displayed\u001b[39;00m\n\u001b[32m   2507\u001b[39m \u001b[38;5;66;03m# when using magics with decorator @output_can_be_silenced\u001b[39;00m\n\u001b[32m   2508\u001b[39m \u001b[38;5;66;03m# when the last Python token in the expression is a ';'.\u001b[39;00m\n\u001b[32m   2509\u001b[39m \u001b[38;5;28;01mif\u001b[39;00m \u001b[38;5;28mgetattr\u001b[39m(fn, magic.MAGIC_OUTPUT_CAN_BE_SILENCED, \u001b[38;5;28;01mFalse\u001b[39;00m):\n",
      "\u001b[36mFile \u001b[39m\u001b[32m~\\Pictures\\Camera Roll\\Lib\\site-packages\\IPython\\core\\magics\\code.py:361\u001b[39m, in \u001b[36mCodeMagics.load\u001b[39m\u001b[34m(self, arg_s)\u001b[39m\n\u001b[32m    359\u001b[39m opts,args = \u001b[38;5;28mself\u001b[39m.parse_options(arg_s,\u001b[33m'\u001b[39m\u001b[33myns:r:\u001b[39m\u001b[33m'\u001b[39m)\n\u001b[32m    360\u001b[39m search_ns = \u001b[33m'\u001b[39m\u001b[33mn\u001b[39m\u001b[33m'\u001b[39m \u001b[38;5;129;01min\u001b[39;00m opts\n\u001b[32m--> \u001b[39m\u001b[32m361\u001b[39m contents = \u001b[38;5;28mself\u001b[39m.shell.find_user_code(args, search_ns=search_ns)\n\u001b[32m    363\u001b[39m \u001b[38;5;28;01mif\u001b[39;00m \u001b[33m'\u001b[39m\u001b[33ms\u001b[39m\u001b[33m'\u001b[39m \u001b[38;5;129;01min\u001b[39;00m opts:\n\u001b[32m    364\u001b[39m     \u001b[38;5;28;01mtry\u001b[39;00m:\n",
      "\u001b[36mFile \u001b[39m\u001b[32m~\\Pictures\\Camera Roll\\Lib\\site-packages\\IPython\\core\\interactiveshell.py:4031\u001b[39m, in \u001b[36mInteractiveShell.find_user_code\u001b[39m\u001b[34m(self, target, raw, py_only, skip_encoding_cookie, search_ns)\u001b[39m\n\u001b[32m   4029\u001b[39m     codeobj = \u001b[38;5;28meval\u001b[39m(target, \u001b[38;5;28mself\u001b[39m.user_ns)\n\u001b[32m   4030\u001b[39m \u001b[38;5;28;01mexcept\u001b[39;00m \u001b[38;5;167;01mException\u001b[39;00m \u001b[38;5;28;01mas\u001b[39;00m e:\n\u001b[32m-> \u001b[39m\u001b[32m4031\u001b[39m     \u001b[38;5;28;01mraise\u001b[39;00m \u001b[38;5;167;01mValueError\u001b[39;00m((\u001b[33m\"\u001b[39m\u001b[33m'\u001b[39m\u001b[38;5;132;01m%s\u001b[39;00m\u001b[33m'\u001b[39m\u001b[33m was not found in history, as a file, url, \u001b[39m\u001b[33m\"\u001b[39m\n\u001b[32m   4032\u001b[39m                         \u001b[33m\"\u001b[39m\u001b[33mnor in the user namespace.\u001b[39m\u001b[33m\"\u001b[39m) % target) \u001b[38;5;28;01mfrom\u001b[39;00m \u001b[34;01me\u001b[39;00m\n\u001b[32m   4034\u001b[39m \u001b[38;5;28;01mif\u001b[39;00m \u001b[38;5;28misinstance\u001b[39m(codeobj, \u001b[38;5;28mstr\u001b[39m):\n\u001b[32m   4035\u001b[39m     \u001b[38;5;28;01mreturn\u001b[39;00m codeobj\n",
      "\u001b[31mValueError\u001b[39m: 'textfile.txt' was not found in history, as a file, url, nor in the user namespace."
     ]
    }
   ],
   "source": [
    "%load textfile.txt"
   ]
  },
  {
   "cell_type": "code",
   "execution_count": null,
   "id": "e9975670-6c4e-4189-902d-65151309dd5e",
   "metadata": {},
   "outputs": [],
   "source": []
  }
 ],
 "metadata": {
  "kernelspec": {
   "display_name": "Python 3 (ipykernel)",
   "language": "python",
   "name": "python3"
  },
  "language_info": {
   "codemirror_mode": {
    "name": "ipython",
    "version": 3
   },
   "file_extension": ".py",
   "mimetype": "text/x-python",
   "name": "python",
   "nbconvert_exporter": "python",
   "pygments_lexer": "ipython3",
   "version": "3.12.7"
  }
 },
 "nbformat": 4,
 "nbformat_minor": 5
}
