{
 "cells": [
  {
   "cell_type": "markdown",
   "id": "2c4b8bfc-bacf-4547-a52f-dcd03a521e5b",
   "metadata": {},
   "source": [
    "## Flow control"
   ]
  },
  {
   "cell_type": "code",
   "execution_count": 4,
   "id": "2b7e7eae-9ce0-40e8-96c2-ac99a8c69c9e",
   "metadata": {},
   "outputs": [],
   "source": [
    "# if clause \n",
    "a = 27 "
   ]
  },
  {
   "cell_type": "markdown",
   "id": "33e1bcd8-6e24-4d52-82a6-9a3b7db1a407",
   "metadata": {},
   "source": [
    "``if``... ``else``\n",
    "```python\n",
    "if.... : \n",
    "    inst 1, inst2, ...\n",
    "\n",
    "```"
   ]
  },
  {
   "cell_type": "code",
   "execution_count": 5,
   "id": "ba2b4909-90d8-4893-afc5-563a3bf792ef",
   "metadata": {},
   "outputs": [
    {
     "name": "stdout",
     "output_type": "stream",
     "text": [
      "We do not have it\n"
     ]
    }
   ],
   "source": [
    "if a >29 :\n",
    "    print(\"We have it\")\n",
    "else :\n",
    "    print('We do not have it')"
   ]
  },
  {
   "cell_type": "markdown",
   "id": "693fdc52-d5b2-4d01-b9d8-850c0bc6a21d",
   "metadata": {},
   "source": [
    "``if``...``elif``...`else`"
   ]
  },
  {
   "cell_type": "code",
   "execution_count": 10,
   "id": "3a057b4a-b7bb-40dc-9ab0-ea0a7ce7b2a6",
   "metadata": {},
   "outputs": [
    {
     "name": "stdin",
     "output_type": "stream",
     "text": [
      "Enter a natural integer number, x : -45\n"
     ]
    },
    {
     "name": "stdout",
     "output_type": "stream",
     "text": [
      "x is negative\n"
     ]
    }
   ],
   "source": [
    "x=int(input(\"Enter a natural integer number, x :\"))\n",
    "if x> 0:\n",
    "    print(\"x is positive\")\n",
    "elif x<0:\n",
    "    print(\"x is negative\")\n",
    "else : print(\"x is zero\")"
   ]
  },
  {
   "cell_type": "markdown",
   "id": "6379802d-1e3c-403d-a2bf-004828822489",
   "metadata": {},
   "source": [
    "## Nested clauses"
   ]
  },
  {
   "cell_type": "markdown",
   "id": "1cc06bc9-bc96-4561-8a13-a4766c551bc7",
   "metadata": {},
   "source": [
    "``if``... ``else``\n",
    "```python\n",
    "if.... : \n",
    "    inst 1, inst2, ...\n",
    "    if ...\n",
    "    else...\n",
    "else ...\n",
    "\n",
    "```"
   ]
  },
  {
   "cell_type": "code",
   "execution_count": 16,
   "id": "4256c704-fa90-4a91-b6ce-77fdf79b5f49",
   "metadata": {},
   "outputs": [
    {
     "name": "stdout",
     "output_type": "stream",
     "text": [
      "a is greater than b\n",
      "The diff is ...\n"
     ]
    }
   ],
   "source": [
    "a,b = 15, 10\n",
    "if a>b :\n",
    "    print(\"a is greater than b\")\n",
    "    if a-b >5:\n",
    "        print(\"The diff is...\")\n",
    "    else : print(\"The diff is ...\")\n",
    "else : print(\"b is greater than a\")"
   ]
  },
  {
   "cell_type": "code",
   "execution_count": 22,
   "id": "4d9bef49-54cb-4a82-a997-0ba661c1bca8",
   "metadata": {},
   "outputs": [],
   "source": [
    "import math as ma"
   ]
  },
  {
   "cell_type": "code",
   "execution_count": 36,
   "id": "3ce8b4a7-d49a-4494-9411-d7d1e8136c5f",
   "metadata": {},
   "outputs": [
    {
     "name": "stdout",
     "output_type": "stream",
     "text": [
      "consider the equation ax^2+bx+c = 0. \n",
      " Enter a different values of a , b, and c the reals numbers \n",
      " \n"
     ]
    },
    {
     "name": "stdin",
     "output_type": "stream",
     "text": [
      "a=  1\n",
      "b=  2\n",
      "c=  1\n"
     ]
    },
    {
     "name": "stdout",
     "output_type": "stream",
     "text": [
      "The unique solution is x_0 = -1.0 \n"
     ]
    }
   ],
   "source": [
    "print(\"consider the equation ax^2+bx+c = 0. \\n Enter a different values of a , b, and c the reals numbers \\n \")\n",
    "a= float(input(\"a= \"))\n",
    "b= float(input(\"b= \"))\n",
    "c= float(input(\"c= \"))\n",
    "delta = b**2 - 4*a*c\n",
    "if delta < 0 :\n",
    "    print(\"The do not have a solution in R but we can get the complex solutions\") \n",
    "   # z1,z2 =  -b/(2*a)-((ma.sqrt(delta))/(2*a))j,-b/(2*a)+(ma.sqrt(delta)/(2*a))j\n",
    "elif delta == 0:\n",
    "    x_0 = -b/(2*a)\n",
    "    print(f\"The unique solution is x_0 = {x_0} \")\n",
    "else :\n",
    "    x1,x2 = (-b-ma.sqrt(delta))/(2*a),(-b+ma.sqrt(delta))/(2*a)\n",
    "    print(f\"We have two differents solutions x1 = {x1}, x2 = {x2} \")"
   ]
  },
  {
   "cell_type": "code",
   "execution_count": 32,
   "id": "9420e445-6f44-4e4d-87e2-f47b4ff98d86",
   "metadata": {},
   "outputs": [
    {
     "data": {
      "text/plain": [
       "complex"
      ]
     },
     "execution_count": 32,
     "metadata": {},
     "output_type": "execute_result"
    }
   ],
   "source": [
    "note = 4+3J\n",
    "type(note)"
   ]
  },
  {
   "cell_type": "markdown",
   "id": "97dc5e9b-1994-4fc9-9372-2f0dd6fd4eee",
   "metadata": {},
   "source": [
    "### `Loops`\n",
    "\n",
    "initialize increment variable\n",
    "```python\n",
    "while condition :\n",
    "    block of instructions\n",
    "    increament\n",
    "```\n",
    "\n",
    "### `For`\n",
    "```python\n",
    "for element in sequence of values :\n",
    "    block of instructions\n",
    "```"
   ]
  },
  {
   "cell_type": "code",
   "execution_count": 40,
   "id": "f8d09a53-2e33-4155-b57d-98e6b1f16875",
   "metadata": {},
   "outputs": [
    {
     "name": "stdout",
     "output_type": "stream",
     "text": [
      "The value of i is  1\n",
      "The value of i is  2\n",
      "The value of i is  3\n",
      "The value of i is  4\n",
      "The value of i is  5\n",
      "The value of i is  6\n",
      "The value of i is  7\n",
      "The value of i is  8\n",
      "The value of i is  9\n"
     ]
    }
   ],
   "source": [
    "i=1\n",
    "while i<10 :\n",
    "    print(\"The value of i is \", i)\n",
    "    i +=1"
   ]
  },
  {
   "cell_type": "code",
   "execution_count": 41,
   "id": "ae83201d-42c6-4c08-b8f4-76b865dc6ca7",
   "metadata": {},
   "outputs": [
    {
     "name": "stdout",
     "output_type": "stream",
     "text": [
      "M\n",
      "P\n",
      "O\n",
      "N\n",
      "G\n",
      " \n",
      "G\n",
      "u\n",
      "s\n",
      "t\n",
      "a\n",
      "v\n",
      "e\n",
      " \n",
      "H\n",
      "e\n",
      "r\n",
      "v\n",
      "é\n",
      " \n"
     ]
    }
   ],
   "source": [
    "for letter in 'MPONG Gustave Hervé ':\n",
    "    print(letter)"
   ]
  },
  {
   "cell_type": "code",
   "execution_count": 42,
   "id": "3386cfa4-f3d5-4f34-97a0-0225d94c120f",
   "metadata": {},
   "outputs": [
    {
     "name": "stdout",
     "output_type": "stream",
     "text": [
      "Try again\n",
      "We found it\n",
      "Try again\n",
      "Try again\n"
     ]
    }
   ],
   "source": [
    "list_fr = [3,5,'hello', 98]\n",
    "for i in list_fr :\n",
    "    if i == 5:\n",
    "        print(\"We found it\")\n",
    "    else:\n",
    "        print(\"Try again\")"
   ]
  },
  {
   "cell_type": "code",
   "execution_count": 44,
   "id": "49163f2d-64f7-489d-85b3-f35d6542a23b",
   "metadata": {},
   "outputs": [
    {
     "name": "stdout",
     "output_type": "stream",
     "text": [
      "The eletter H is a consonant\n",
      "The letter e is a vowel\n",
      "The eletter l is a consonant\n",
      "The eletter l is a consonant\n",
      "The letter o is a vowel\n",
      "The eletter , is a consonant\n",
      "This is likely a space\n",
      "The eletter w is a consonant\n",
      "The letter o is a vowel\n",
      "The eletter r is a consonant\n",
      "The eletter l is a consonant\n",
      "The eletter d is a consonant\n",
      "The eletter . is a consonant\n"
     ]
    }
   ],
   "source": [
    "sentence = \"Hello, world.\"\n",
    "for letter in sentence: \n",
    "    if letter in \"AEIOUaeiou\" : \n",
    "        print(\"The letter\", letter, \"is a vowel\")\n",
    "    elif letter == \" \":\n",
    "        print(\"This is likely a space\")\n",
    "     elif letter == \" \":\n",
    "        print(\"This is likely a space\")\n",
    "    else : \n",
    "        print(\"The eletter\", letter, \"is a consonant\")"
   ]
  },
  {
   "cell_type": "code",
   "execution_count": 52,
   "id": "5601b41b-f695-473d-9432-40f735264b5c",
   "metadata": {},
   "outputs": [
    {
     "name": "stdout",
     "output_type": "stream",
     "text": [
      "[1, 2, 3, 4, 5, 6, 7, 8, 9]\n"
     ]
    }
   ],
   "source": [
    "x= list(range(1,10))\n",
    "print(x)"
   ]
  },
  {
   "cell_type": "code",
   "execution_count": 53,
   "id": "3a75e711-7516-4a07-bdae-041526ab8cc8",
   "metadata": {},
   "outputs": [],
   "source": [
    "#Method about string for explore it "
   ]
  },
  {
   "cell_type": "code",
   "execution_count": 54,
   "id": "f5076f08-6670-468b-b7db-2fe8905bc52f",
   "metadata": {},
   "outputs": [
    {
     "name": "stdout",
     "output_type": "stream",
     "text": [
      "Object `x.string` not found.\n"
     ]
    }
   ],
   "source": [
    "hstring"
   ]
  },
  {
   "cell_type": "code",
   "execution_count": null,
   "id": "36bbfc02-be93-4d00-828f-b2a5e922d32e",
   "metadata": {},
   "outputs": [],
   "source": []
  }
 ],
 "metadata": {
  "kernelspec": {
   "display_name": "Python 3 (ipykernel)",
   "language": "python",
   "name": "python3"
  },
  "language_info": {
   "codemirror_mode": {
    "name": "ipython",
    "version": 3
   },
   "file_extension": ".py",
   "mimetype": "text/x-python",
   "name": "python",
   "nbconvert_exporter": "python",
   "pygments_lexer": "ipython3",
   "version": "3.12.7"
  }
 },
 "nbformat": 4,
 "nbformat_minor": 5
}
