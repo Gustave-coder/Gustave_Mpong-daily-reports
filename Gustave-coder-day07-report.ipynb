{
 "cells": [
  {
   "cell_type": "markdown",
   "id": "1b1b6363-c977-4743-a247-19d87375a7a9",
   "metadata": {},
   "source": [
    "## <span style= \"color:red\"> Functions </span>"
   ]
  },
  {
   "cell_type": "markdown",
   "id": "5d0e844b-f117-4c24-9653-1146bdb4b377",
   "metadata": {},
   "source": [
    "### \n",
    "`input` and `print`"
   ]
  },
  {
   "cell_type": "markdown",
   "id": "3fe7f851-d368-4c7d-afd7-bbc1a5984357",
   "metadata": {},
   "source": [
    "### User-defined\n",
    "```python\n",
    "    def funcyionName([parm1, parm2, ..., parmN]):\n",
    "        \"\"\"Documentation for the function.\"\"\"\n",
    "        <block_of_instructions>\n",
    "\n",
    "```"
   ]
  },
  {
   "cell_type": "code",
   "execution_count": 5,
   "id": "cf0d206a-9915-4823-ac88-af6e1edbb81e",
   "metadata": {},
   "outputs": [],
   "source": [
    "def multiplication_table_8():\n",
    "    \"\"\"\n",
    "    The purpose of this function is to display the first 20 values of the multiplication table for 8.\n",
    "    Input: None\n",
    "    Output: The multiplication table of 8\n",
    "    \n",
    "    \"\"\"\n",
    "    n=1\n",
    "    while n<=10:\n",
    "        v= n*8\n",
    "        print(n,'x',8,'=',v, sep=' ')\n",
    "        n =n+1"
   ]
  },
  {
   "cell_type": "code",
   "execution_count": 6,
   "id": "127f2c8c-7b2a-4913-af62-061386f58428",
   "metadata": {},
   "outputs": [
    {
     "name": "stdout",
     "output_type": "stream",
     "text": [
      "1 x 8 = 8\n",
      "2 x 8 = 16\n",
      "3 x 8 = 24\n",
      "4 x 8 = 32\n",
      "5 x 8 = 40\n",
      "6 x 8 = 48\n",
      "7 x 8 = 56\n",
      "8 x 8 = 64\n",
      "9 x 8 = 72\n",
      "10 x 8 = 80\n"
     ]
    }
   ],
   "source": [
    " multiplication_table_8()"
   ]
  },
  {
   "cell_type": "code",
   "execution_count": 1,
   "id": "eba4dc22-4b09-4b03-a983-8bb5d0ad27be",
   "metadata": {},
   "outputs": [],
   "source": [
    "def multiplication_table(n):\n",
    "    \"\"\"\n",
    "    The purpose of this function is to display the first 20 values of the multiplication table for 8.\n",
    "    Input: None\n",
    "    Output: The multiplication table of 8\n",
    "    \n",
    "    \"\"\"\n",
    "    print(f\"Multiplication Table for {n} :\")\n",
    "    print(\"=\" * 25)\n",
    "    for i in range(1,11):\n",
    "        reslut = 1*n\n",
    "#When we don't have a return that means that the return is none "
   ]
  },
  {
   "cell_type": "code",
   "execution_count": null,
   "id": "6a513377-91c5-49e9-bee4-de7f570b2fb0",
   "metadata": {},
   "outputs": [],
   "source": [
    "help(multiplication_table)"
   ]
  },
  {
   "cell_type": "code",
   "execution_count": null,
   "id": "99a2142c-2342-473d-848e-09e1c644f2a8",
   "metadata": {},
   "outputs": [],
   "source": [
    "def table()"
   ]
  },
  {
   "cell_type": "markdown",
   "id": "efccba39-1f00-47d1-9403-625818907a5b",
   "metadata": {},
   "source": [
    "## One parameter, use of `return`"
   ]
  },
  {
   "cell_type": "code",
   "execution_count": 10,
   "id": "eb9ccc7e-445d-4e13-ac77-1bd43ebeb50f",
   "metadata": {},
   "outputs": [],
   "source": [
    "def square(x):\n",
    "    \"\"\"This function calculate the square of a given number x.\n",
    "    Input: The number x to be square.\n",
    "    Output: The square of the Input number\n",
    "    \"\"\"\n",
    "    return x**2"
   ]
  },
  {
   "cell_type": "code",
   "execution_count": 19,
   "id": "ff3de166-7897-46a3-894b-826f40dc9155",
   "metadata": {},
   "outputs": [
    {
     "name": "stdout",
     "output_type": "stream",
     "text": [
      "4\n"
     ]
    }
   ],
   "source": [
    "print(square(2)) "
   ]
  },
  {
   "cell_type": "code",
   "execution_count": 20,
   "id": "20bf8a35-a43a-4a2d-a822-2d39adcb5b6a",
   "metadata": {},
   "outputs": [],
   "source": [
    "def area_rectangle(x,y):\n",
    "    \"\"\"This function calculate the area of a rectangle.\n",
    "    Input: The number x and y are respectively the length and the width.\n",
    "    Output: The area of the rectangle x*y.\n",
    "    \"\"\"\n",
    "    return x*y"
   ]
  },
  {
   "cell_type": "code",
   "execution_count": 18,
   "id": "822a525c-fde9-4623-9a3b-df34bd0922e4",
   "metadata": {},
   "outputs": [
    {
     "data": {
      "text/plain": [
       "8"
      ]
     },
     "execution_count": 18,
     "metadata": {},
     "output_type": "execute_result"
    }
   ],
   "source": [
    "area_rectangle(2,4)"
   ]
  },
  {
   "cell_type": "code",
   "execution_count": 12,
   "id": "c022b3c8-95f4-41e4-bae5-c5095b3683af",
   "metadata": {},
   "outputs": [],
   "source": [
    "f = lambda x: x**2"
   ]
  },
  {
   "cell_type": "code",
   "execution_count": 13,
   "id": "04c26c38-d0d1-4145-8d34-8c00febbe4a5",
   "metadata": {},
   "outputs": [
    {
     "data": {
      "text/plain": [
       "4"
      ]
     },
     "execution_count": 13,
     "metadata": {},
     "output_type": "execute_result"
    }
   ],
   "source": [
    "f(2)"
   ]
  },
  {
   "cell_type": "code",
   "execution_count": 14,
   "id": "2ac910cc-452f-4956-9b0e-70aa5b3d2937",
   "metadata": {},
   "outputs": [],
   "source": [
    "g = lambda l,L:l*L"
   ]
  },
  {
   "cell_type": "code",
   "execution_count": 15,
   "id": "a0822c79-3c16-42b5-b84a-c937f0bb7a7e",
   "metadata": {},
   "outputs": [
    {
     "data": {
      "text/plain": [
       "8"
      ]
     },
     "execution_count": 15,
     "metadata": {},
     "output_type": "execute_result"
    }
   ],
   "source": [
    "g(2,4)"
   ]
  },
  {
   "cell_type": "code",
   "execution_count": null,
   "id": "41794f0c-80c5-4c5f-b452-2756fe8c15bb",
   "metadata": {},
   "outputs": [],
   "source": []
  },
  {
   "cell_type": "code",
   "execution_count": null,
   "id": "883891d9-f3d0-4f5d-bc68-29b545fcde27",
   "metadata": {},
   "outputs": [],
   "source": []
  },
  {
   "cell_type": "code",
   "execution_count": null,
   "id": "c904ce51-a7ef-4bce-b499-99c5a7566c82",
   "metadata": {},
   "outputs": [],
   "source": []
  },
  {
   "cell_type": "code",
   "execution_count": null,
   "id": "397578a5-c00a-4bd1-ba15-175866ef43c1",
   "metadata": {},
   "outputs": [],
   "source": []
  },
  {
   "cell_type": "code",
   "execution_count": null,
   "id": "ce70dd86-05ba-4ac7-8c98-2308d79ceac7",
   "metadata": {},
   "outputs": [],
   "source": []
  },
  {
   "cell_type": "code",
   "execution_count": null,
   "id": "c5064e13-713e-4777-b86d-72296de58733",
   "metadata": {},
   "outputs": [],
   "source": []
  },
  {
   "cell_type": "code",
   "execution_count": null,
   "id": "e0972a4e-8f01-482e-89ad-35b75be5dffd",
   "metadata": {},
   "outputs": [],
   "source": []
  },
  {
   "cell_type": "code",
   "execution_count": null,
   "id": "fa0e0545-4151-4132-ad78-aa402483361b",
   "metadata": {},
   "outputs": [],
   "source": []
  },
  {
   "cell_type": "code",
   "execution_count": null,
   "id": "e8ebb56a-f45d-43b0-bcc7-c4480745e6c5",
   "metadata": {},
   "outputs": [],
   "source": []
  },
  {
   "cell_type": "code",
   "execution_count": null,
   "id": "329b0f66-4d0a-48f5-ba33-8682e88ad314",
   "metadata": {},
   "outputs": [],
   "source": []
  },
  {
   "cell_type": "code",
   "execution_count": null,
   "id": "cf88a84c-6956-48e2-8eaf-a7a7eab4b5c6",
   "metadata": {},
   "outputs": [],
   "source": []
  },
  {
   "cell_type": "code",
   "execution_count": null,
   "id": "079d8041-8ab5-412f-a7c6-db4852e4509e",
   "metadata": {},
   "outputs": [],
   "source": []
  },
  {
   "cell_type": "code",
   "execution_count": null,
   "id": "ce95967d-3013-4fbe-ae3e-21bbd0c94a27",
   "metadata": {},
   "outputs": [],
   "source": []
  }
 ],
 "metadata": {
  "kernelspec": {
   "display_name": "Python 3 (ipykernel)",
   "language": "python",
   "name": "python3"
  },
  "language_info": {
   "codemirror_mode": {
    "name": "ipython",
    "version": 3
   },
   "file_extension": ".py",
   "mimetype": "text/x-python",
   "name": "python",
   "nbconvert_exporter": "python",
   "pygments_lexer": "ipython3",
   "version": "3.12.7"
  }
 },
 "nbformat": 4,
 "nbformat_minor": 5
}
